{
 "cells": [
  {
   "cell_type": "code",
   "execution_count": 1,
   "id": "ef141041-7eed-4c57-9eff-ff131ed4ccbc",
   "metadata": {},
   "outputs": [
    {
     "name": "stdout",
     "output_type": "stream",
     "text": [
      "Starting in 5 seconds...\n"
     ]
    },
    {
     "ename": "KeyboardInterrupt",
     "evalue": "",
     "output_type": "error",
     "traceback": [
      "\u001b[1;31m---------------------------------------------------------------------------\u001b[0m",
      "\u001b[1;31mKeyboardInterrupt\u001b[0m                         Traceback (most recent call last)",
      "Cell \u001b[1;32mIn[1], line 27\u001b[0m\n\u001b[0;32m     24\u001b[0m screenshot_count \u001b[38;5;241m+\u001b[39m\u001b[38;5;241m=\u001b[39m \u001b[38;5;241m1\u001b[39m\n\u001b[0;32m     26\u001b[0m \u001b[38;5;66;03m# Wait for 2 seconds before taking the next one\u001b[39;00m\n\u001b[1;32m---> 27\u001b[0m \u001b[43mtime\u001b[49m\u001b[38;5;241;43m.\u001b[39;49m\u001b[43msleep\u001b[49m\u001b[43m(\u001b[49m\u001b[38;5;241;43m2\u001b[39;49m\u001b[43m)\u001b[49m\n",
      "\u001b[1;31mKeyboardInterrupt\u001b[0m: "
     ]
    }
   ],
   "source": [
    "import pyautogui\n",
    "import time\n",
    "import os\n",
    "\n",
    "# Create a folder for saving screenshots if it doesn't exist\n",
    "save_folder = 'screenshots'\n",
    "if not os.path.exists(save_folder):\n",
    "    os.makedirs(save_folder)\n",
    "\n",
    "# Delay start for 5 seconds\n",
    "print(\"Starting in 5 seconds...\")\n",
    "time.sleep(5)\n",
    "\n",
    "# Capture screenshots every 2 seconds\n",
    "screenshot_count = 0\n",
    "while True:\n",
    "    # Take a screenshot\n",
    "    screenshot = pyautogui.screenshot()\n",
    "\n",
    "    # Save the screenshot\n",
    "    screenshot.save(f\"./images/img_{screenshot_count}.png\")\n",
    "    \n",
    "    # Increment the count\n",
    "    screenshot_count += 1\n",
    "\n",
    "    # Wait for 2 seconds before taking the next one\n",
    "    time.sleep(2)\n"
   ]
  },
  {
   "cell_type": "code",
   "execution_count": null,
   "id": "d8616646-aa53-438a-9b79-469277c04667",
   "metadata": {},
   "outputs": [],
   "source": []
  },
  {
   "cell_type": "code",
   "execution_count": null,
   "id": "d185deaf-4892-439a-822f-a8f34af66c67",
   "metadata": {},
   "outputs": [],
   "source": []
  }
 ],
 "metadata": {
  "kernelspec": {
   "display_name": "Python 3 (ipykernel)",
   "language": "python",
   "name": "python3"
  },
  "language_info": {
   "codemirror_mode": {
    "name": "ipython",
    "version": 3
   },
   "file_extension": ".py",
   "mimetype": "text/x-python",
   "name": "python",
   "nbconvert_exporter": "python",
   "pygments_lexer": "ipython3",
   "version": "3.12.3"
  }
 },
 "nbformat": 4,
 "nbformat_minor": 5
}
